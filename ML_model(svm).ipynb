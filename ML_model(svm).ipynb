{
 "cells": [
  {
   "cell_type": "code",
   "execution_count": 1,
   "id": "f2faec5b",
   "metadata": {},
   "outputs": [],
   "source": [
    "# Import necessary libraries\n",
    "import numpy as np\n",
    "import pandas as pd\n",
    "from sklearn.preprocessing import StandardScaler\n",
    "from sklearn.model_selection import train_test_split\n",
    "from sklearn import svm\n",
    "from sklearn.linear_model import LogisticRegression\n",
    "from sklearn.ensemble import RandomForestClassifier\n",
    "from sklearn.metrics import accuracy_score\n",
    "import joblib"
   ]
  },
  {
   "cell_type": "code",
   "execution_count": 2,
   "id": "60e0a7ea",
   "metadata": {},
   "outputs": [],
   "source": [
    "# Load the diabetes dataset into a pandas DataFrame\n",
    "def load_dataset(file_path):\n",
    "    try:\n",
    "        diabetes_dataset = pd.read_csv(file_path)\n",
    "        return diabetes_dataset\n",
    "    except Exception as e:\n",
    "        print(f\"Failed to load dataset: {e}\")\n",
    "\n",
    "file_path = r\"D:\\Work_Station\\Project_CICD_Pipeline\\src\\data\\diabetes.csv\"\n",
    "diabetes_dataset = load_dataset(file_path)\n"
   ]
  },
  {
   "cell_type": "code",
   "execution_count": 3,
   "id": "158a2baa",
   "metadata": {},
   "outputs": [
    {
     "name": "stdout",
     "output_type": "stream",
     "text": [
      "<class 'pandas.core.frame.DataFrame'>\n",
      "RangeIndex: 768 entries, 0 to 767\n",
      "Data columns (total 9 columns):\n",
      " #   Column                    Non-Null Count  Dtype  \n",
      "---  ------                    --------------  -----  \n",
      " 0   Pregnancies               768 non-null    int64  \n",
      " 1   Glucose                   768 non-null    int64  \n",
      " 2   BloodPressure             768 non-null    int64  \n",
      " 3   SkinThickness             768 non-null    int64  \n",
      " 4   Insulin                   768 non-null    int64  \n",
      " 5   BMI                       768 non-null    float64\n",
      " 6   DiabetesPedigreeFunction  768 non-null    float64\n",
      " 7   Age                       768 non-null    int64  \n",
      " 8   Outcome                   768 non-null    int64  \n",
      "dtypes: float64(2), int64(7)\n",
      "memory usage: 54.1 KB\n"
     ]
    }
   ],
   "source": [
    "diabetes_dataset.info()"
   ]
  },
  {
   "cell_type": "code",
   "execution_count": 4,
   "id": "757bbdd7",
   "metadata": {},
   "outputs": [
    {
     "name": "stdout",
     "output_type": "stream",
     "text": [
      "   Pregnancies  Glucose  BloodPressure  SkinThickness  Insulin   BMI  \\\n",
      "0            6      148             72             35        0  33.6   \n",
      "1            1       85             66             29        0  26.6   \n",
      "2            8      183             64              0        0  23.3   \n",
      "3            1       89             66             23       94  28.1   \n",
      "4            0      137             40             35      168  43.1   \n",
      "\n",
      "   DiabetesPedigreeFunction  Age  Outcome  \n",
      "0                     0.627   50        1  \n",
      "1                     0.351   31        0  \n",
      "2                     0.672   32        1  \n",
      "3                     0.167   21        0  \n",
      "4                     2.288   33        1  \n",
      "<class 'pandas.core.frame.DataFrame'>\n",
      "RangeIndex: 768 entries, 0 to 767\n",
      "Data columns (total 9 columns):\n",
      " #   Column                    Non-Null Count  Dtype  \n",
      "---  ------                    --------------  -----  \n",
      " 0   Pregnancies               768 non-null    int64  \n",
      " 1   Glucose                   768 non-null    int64  \n",
      " 2   BloodPressure             768 non-null    int64  \n",
      " 3   SkinThickness             768 non-null    int64  \n",
      " 4   Insulin                   768 non-null    int64  \n",
      " 5   BMI                       768 non-null    float64\n",
      " 6   DiabetesPedigreeFunction  768 non-null    float64\n",
      " 7   Age                       768 non-null    int64  \n",
      " 8   Outcome                   768 non-null    int64  \n",
      "dtypes: float64(2), int64(7)\n",
      "memory usage: 54.1 KB\n",
      "None\n",
      "Outcome\n",
      "0    500\n",
      "1    268\n",
      "Name: count, dtype: int64\n",
      "         Pregnancies     Glucose  BloodPressure  SkinThickness     Insulin  \\\n",
      "Outcome                                                                      \n",
      "0           3.298000  109.980000      68.184000      19.664000   68.792000   \n",
      "1           4.865672  141.257463      70.824627      22.164179  100.335821   \n",
      "\n",
      "               BMI  DiabetesPedigreeFunction        Age  \n",
      "Outcome                                                  \n",
      "0        30.304200                  0.429734  31.190000  \n",
      "1        35.142537                  0.550500  37.067164  \n"
     ]
    }
   ],
   "source": [
    "# Explore the dataset\n",
    "def explore_dataset(diabetes_dataset):\n",
    "    print(diabetes_dataset.head())\n",
    "    print(diabetes_dataset.info())\n",
    "    print(diabetes_dataset['Outcome'].value_counts())\n",
    "    print(diabetes_dataset.groupby('Outcome').mean())\n",
    "\n",
    "explore_dataset(diabetes_dataset)\n"
   ]
  },
  {
   "cell_type": "code",
   "execution_count": 5,
   "id": "eef44bd7",
   "metadata": {},
   "outputs": [
    {
     "data": {
      "application/vnd.microsoft.datawrangler.viewer.v0+json": {
       "columns": [
        {
         "name": "index",
         "rawType": "object",
         "type": "string"
        },
        {
         "name": "Pregnancies",
         "rawType": "float64",
         "type": "float"
        },
        {
         "name": "Glucose",
         "rawType": "float64",
         "type": "float"
        },
        {
         "name": "BloodPressure",
         "rawType": "float64",
         "type": "float"
        },
        {
         "name": "SkinThickness",
         "rawType": "float64",
         "type": "float"
        },
        {
         "name": "Insulin",
         "rawType": "float64",
         "type": "float"
        },
        {
         "name": "BMI",
         "rawType": "float64",
         "type": "float"
        },
        {
         "name": "DiabetesPedigreeFunction",
         "rawType": "float64",
         "type": "float"
        },
        {
         "name": "Age",
         "rawType": "float64",
         "type": "float"
        },
        {
         "name": "Outcome",
         "rawType": "float64",
         "type": "float"
        }
       ],
       "conversionMethod": "pd.DataFrame",
       "ref": "5acec2e7-64c5-4d88-a3b3-9c1f4d4da0ff",
       "rows": [
        [
         "count",
         "768.0",
         "768.0",
         "768.0",
         "768.0",
         "768.0",
         "768.0",
         "768.0",
         "768.0",
         "768.0"
        ],
        [
         "mean",
         "3.8450520833333335",
         "120.89453125",
         "69.10546875",
         "20.536458333333332",
         "79.79947916666667",
         "31.992578124999998",
         "0.47187630208333325",
         "33.240885416666664",
         "0.3489583333333333"
        ],
        [
         "std",
         "3.3695780626988694",
         "31.97261819513622",
         "19.355807170644777",
         "15.952217567727637",
         "115.24400235133817",
         "7.884160320375446",
         "0.3313285950127749",
         "11.760231540678685",
         "0.47695137724279896"
        ],
        [
         "min",
         "0.0",
         "0.0",
         "0.0",
         "0.0",
         "0.0",
         "0.0",
         "0.078",
         "21.0",
         "0.0"
        ],
        [
         "25%",
         "1.0",
         "99.0",
         "62.0",
         "0.0",
         "0.0",
         "27.3",
         "0.24375",
         "24.0",
         "0.0"
        ],
        [
         "50%",
         "3.0",
         "117.0",
         "72.0",
         "23.0",
         "30.5",
         "32.0",
         "0.3725",
         "29.0",
         "0.0"
        ],
        [
         "75%",
         "6.0",
         "140.25",
         "80.0",
         "32.0",
         "127.25",
         "36.6",
         "0.62625",
         "41.0",
         "1.0"
        ],
        [
         "max",
         "17.0",
         "199.0",
         "122.0",
         "99.0",
         "846.0",
         "67.1",
         "2.42",
         "81.0",
         "1.0"
        ]
       ],
       "shape": {
        "columns": 9,
        "rows": 8
       }
      },
      "text/html": [
       "<div>\n",
       "<style scoped>\n",
       "    .dataframe tbody tr th:only-of-type {\n",
       "        vertical-align: middle;\n",
       "    }\n",
       "\n",
       "    .dataframe tbody tr th {\n",
       "        vertical-align: top;\n",
       "    }\n",
       "\n",
       "    .dataframe thead th {\n",
       "        text-align: right;\n",
       "    }\n",
       "</style>\n",
       "<table border=\"1\" class=\"dataframe\">\n",
       "  <thead>\n",
       "    <tr style=\"text-align: right;\">\n",
       "      <th></th>\n",
       "      <th>Pregnancies</th>\n",
       "      <th>Glucose</th>\n",
       "      <th>BloodPressure</th>\n",
       "      <th>SkinThickness</th>\n",
       "      <th>Insulin</th>\n",
       "      <th>BMI</th>\n",
       "      <th>DiabetesPedigreeFunction</th>\n",
       "      <th>Age</th>\n",
       "      <th>Outcome</th>\n",
       "    </tr>\n",
       "  </thead>\n",
       "  <tbody>\n",
       "    <tr>\n",
       "      <th>count</th>\n",
       "      <td>768.000000</td>\n",
       "      <td>768.000000</td>\n",
       "      <td>768.000000</td>\n",
       "      <td>768.000000</td>\n",
       "      <td>768.000000</td>\n",
       "      <td>768.000000</td>\n",
       "      <td>768.000000</td>\n",
       "      <td>768.000000</td>\n",
       "      <td>768.000000</td>\n",
       "    </tr>\n",
       "    <tr>\n",
       "      <th>mean</th>\n",
       "      <td>3.845052</td>\n",
       "      <td>120.894531</td>\n",
       "      <td>69.105469</td>\n",
       "      <td>20.536458</td>\n",
       "      <td>79.799479</td>\n",
       "      <td>31.992578</td>\n",
       "      <td>0.471876</td>\n",
       "      <td>33.240885</td>\n",
       "      <td>0.348958</td>\n",
       "    </tr>\n",
       "    <tr>\n",
       "      <th>std</th>\n",
       "      <td>3.369578</td>\n",
       "      <td>31.972618</td>\n",
       "      <td>19.355807</td>\n",
       "      <td>15.952218</td>\n",
       "      <td>115.244002</td>\n",
       "      <td>7.884160</td>\n",
       "      <td>0.331329</td>\n",
       "      <td>11.760232</td>\n",
       "      <td>0.476951</td>\n",
       "    </tr>\n",
       "    <tr>\n",
       "      <th>min</th>\n",
       "      <td>0.000000</td>\n",
       "      <td>0.000000</td>\n",
       "      <td>0.000000</td>\n",
       "      <td>0.000000</td>\n",
       "      <td>0.000000</td>\n",
       "      <td>0.000000</td>\n",
       "      <td>0.078000</td>\n",
       "      <td>21.000000</td>\n",
       "      <td>0.000000</td>\n",
       "    </tr>\n",
       "    <tr>\n",
       "      <th>25%</th>\n",
       "      <td>1.000000</td>\n",
       "      <td>99.000000</td>\n",
       "      <td>62.000000</td>\n",
       "      <td>0.000000</td>\n",
       "      <td>0.000000</td>\n",
       "      <td>27.300000</td>\n",
       "      <td>0.243750</td>\n",
       "      <td>24.000000</td>\n",
       "      <td>0.000000</td>\n",
       "    </tr>\n",
       "    <tr>\n",
       "      <th>50%</th>\n",
       "      <td>3.000000</td>\n",
       "      <td>117.000000</td>\n",
       "      <td>72.000000</td>\n",
       "      <td>23.000000</td>\n",
       "      <td>30.500000</td>\n",
       "      <td>32.000000</td>\n",
       "      <td>0.372500</td>\n",
       "      <td>29.000000</td>\n",
       "      <td>0.000000</td>\n",
       "    </tr>\n",
       "    <tr>\n",
       "      <th>75%</th>\n",
       "      <td>6.000000</td>\n",
       "      <td>140.250000</td>\n",
       "      <td>80.000000</td>\n",
       "      <td>32.000000</td>\n",
       "      <td>127.250000</td>\n",
       "      <td>36.600000</td>\n",
       "      <td>0.626250</td>\n",
       "      <td>41.000000</td>\n",
       "      <td>1.000000</td>\n",
       "    </tr>\n",
       "    <tr>\n",
       "      <th>max</th>\n",
       "      <td>17.000000</td>\n",
       "      <td>199.000000</td>\n",
       "      <td>122.000000</td>\n",
       "      <td>99.000000</td>\n",
       "      <td>846.000000</td>\n",
       "      <td>67.100000</td>\n",
       "      <td>2.420000</td>\n",
       "      <td>81.000000</td>\n",
       "      <td>1.000000</td>\n",
       "    </tr>\n",
       "  </tbody>\n",
       "</table>\n",
       "</div>"
      ],
      "text/plain": [
       "       Pregnancies     Glucose  BloodPressure  SkinThickness     Insulin  \\\n",
       "count   768.000000  768.000000     768.000000     768.000000  768.000000   \n",
       "mean      3.845052  120.894531      69.105469      20.536458   79.799479   \n",
       "std       3.369578   31.972618      19.355807      15.952218  115.244002   \n",
       "min       0.000000    0.000000       0.000000       0.000000    0.000000   \n",
       "25%       1.000000   99.000000      62.000000       0.000000    0.000000   \n",
       "50%       3.000000  117.000000      72.000000      23.000000   30.500000   \n",
       "75%       6.000000  140.250000      80.000000      32.000000  127.250000   \n",
       "max      17.000000  199.000000     122.000000      99.000000  846.000000   \n",
       "\n",
       "              BMI  DiabetesPedigreeFunction         Age     Outcome  \n",
       "count  768.000000                768.000000  768.000000  768.000000  \n",
       "mean    31.992578                  0.471876   33.240885    0.348958  \n",
       "std      7.884160                  0.331329   11.760232    0.476951  \n",
       "min      0.000000                  0.078000   21.000000    0.000000  \n",
       "25%     27.300000                  0.243750   24.000000    0.000000  \n",
       "50%     32.000000                  0.372500   29.000000    0.000000  \n",
       "75%     36.600000                  0.626250   41.000000    1.000000  \n",
       "max     67.100000                  2.420000   81.000000    1.000000  "
      ]
     },
     "execution_count": 5,
     "metadata": {},
     "output_type": "execute_result"
    }
   ],
   "source": [
    "diabetes_dataset.describe()"
   ]
  },
  {
   "cell_type": "code",
   "execution_count": 6,
   "id": "560afb42",
   "metadata": {},
   "outputs": [],
   "source": [
    "def prepare_data_with_val(diabetes_dataset):\n",
    "    # Separate features and target\n",
    "    X = diabetes_dataset.drop(columns='Outcome', axis=1)\n",
    "    Y = diabetes_dataset['Outcome']\n",
    "\n",
    "    # Standardize features\n",
    "    scaler = StandardScaler()\n",
    "    X = scaler.fit_transform(X)\n",
    "\n",
    "    # Split into train (70%) and temp (20%)\n",
    "    X_train, X_temp, Y_train, Y_temp = train_test_split(\n",
    "        X, Y, test_size=0.2, stratify=Y, random_state=2\n",
    "    )\n",
    "\n",
    "    # Split temp into validation (10%) and test (10%)\n",
    "    X_val, X_test, Y_val, Y_test = train_test_split(\n",
    "        X_temp, Y_temp, test_size=0.5, stratify=Y_temp, random_state=2\n",
    "    )\n",
    "\n",
    "    return X_train, X_val, X_test, Y_train, Y_val, Y_test, scaler\n",
    "\n"
   ]
  },
  {
   "cell_type": "markdown",
   "id": "0bccfb35",
   "metadata": {},
   "source": [
    "## Step 2: Define a Function to Evaluate Model Performance"
   ]
  },
  {
   "cell_type": "code",
   "execution_count": 7,
   "id": "32fb551b",
   "metadata": {},
   "outputs": [],
   "source": [
    "def evaluate_classifier(classifier, X_train, Y_train, X_val, Y_val, X_test, Y_test):\n",
    "    train_pred = classifier.predict(X_train)\n",
    "    val_pred = classifier.predict(X_val)\n",
    "    test_pred = classifier.predict(X_test)\n",
    "\n",
    "    train_acc = accuracy_score(Y_train, train_pred)\n",
    "    val_acc = accuracy_score(Y_val, val_pred)\n",
    "    test_acc = accuracy_score(Y_test, test_pred)\n",
    "\n",
    "    return train_acc, val_acc, test_acc"
   ]
  },
  {
   "cell_type": "markdown",
   "id": "e545fce0",
   "metadata": {},
   "source": [
    "## Step 3: Train Default Model and Evaluate Before Hyperparameter Tuning"
   ]
  },
  {
   "cell_type": "code",
   "execution_count": 8,
   "id": "7187dac4",
   "metadata": {},
   "outputs": [],
   "source": [
    "def train_default_model(model, X_train, Y_train, X_val, Y_val, X_test, Y_test):\n",
    "    model.fit(X_train, Y_train)\n",
    "    train_acc, val_acc, test_acc = evaluate_classifier(model, X_train, Y_train, X_val, Y_val, X_test, Y_test)\n",
    "    print(f\"Before tuning - Train Acc: {train_acc:.4f}, Val Acc: {val_acc:.4f}, Test Acc: {test_acc:.4f}\")\n",
    "    return train_acc, val_acc, test_acc"
   ]
  },
  {
   "cell_type": "markdown",
   "id": "a29f524d",
   "metadata": {},
   "source": [
    "## Step 4: Hyperparameter Tuning Using Validation Set with GridSearchCV and Custom CV Split"
   ]
  },
  {
   "cell_type": "code",
   "execution_count": 9,
   "id": "5f902d69",
   "metadata": {},
   "outputs": [],
   "source": [
    "from sklearn.model_selection import GridSearchCV\n",
    "\n",
    "def tune_hyperparameters_with_val(model, param_grid, X_train, Y_train, X_val, Y_val):\n",
    "    # Combine train and validation sets\n",
    "    X_combined = np.vstack((X_train, X_val))\n",
    "    Y_combined = pd.concat([Y_train.reset_index(drop=True), Y_val.reset_index(drop=True)], ignore_index=True)\n",
    "\n",
    "    # Indices for train and validation samples in combined data\n",
    "    train_indices = list(range(len(X_train)))\n",
    "    val_indices = list(range(len(X_train), len(X_train) + len(X_val)))\n",
    "\n",
    "    # Custom CV split: train on train_indices, validate on val_indices\n",
    "    custom_cv = [(train_indices, val_indices)]\n",
    "\n",
    "    grid = GridSearchCV(\n",
    "        estimator=model,\n",
    "        param_grid=param_grid,\n",
    "        cv=custom_cv,\n",
    "        scoring='accuracy',\n",
    "        n_jobs=-1,\n",
    "        refit=True\n",
    "    )\n",
    "\n",
    "    grid.fit(X_combined, Y_combined)\n",
    "    print(f\"Best hyperparameters: {grid.best_params_}\")\n",
    "    return grid.best_estimator_\n"
   ]
  },
  {
   "cell_type": "markdown",
   "id": "84783fdd",
   "metadata": {},
   "source": [
    "## Step 5: Evaluate the Tuned Model"
   ]
  },
  {
   "cell_type": "code",
   "execution_count": 10,
   "id": "69d70aaa",
   "metadata": {},
   "outputs": [],
   "source": [
    "def evaluate_tuned_model(best_model, X_train, Y_train, X_val, Y_val, X_test, Y_test):\n",
    "    train_acc, val_acc, test_acc = evaluate_classifier(best_model, X_train, Y_train, X_val, Y_val, X_test, Y_test)\n",
    "    print(f\"After tuning - Train Acc: {train_acc:.4f}, Val Acc: {val_acc:.4f}, Test Acc: {test_acc:.4f}\")\n",
    "    return train_acc, val_acc, test_acc\n"
   ]
  },
  {
   "cell_type": "markdown",
   "id": "6eb16d71",
   "metadata": {},
   "source": [
    "## Step 6: Complete Workflow for Multiple Models"
   ]
  },
  {
   "cell_type": "code",
   "execution_count": 11,
   "id": "fd8789e5",
   "metadata": {},
   "outputs": [],
   "source": [
    "def train_and_tune_models(X_train, Y_train, X_val, Y_val, X_test, Y_test):\n",
    "    models = {\n",
    "        'SVM': svm.SVC(),\n",
    "        'LogisticRegression': LogisticRegression(max_iter=1000),\n",
    "        'RandomForest': RandomForestClassifier(random_state=2)\n",
    "    }\n",
    "\n",
    "    param_grids = {\n",
    "        'SVM': {\n",
    "            'kernel': ['linear', 'rbf'],\n",
    "            'C': [0.1, 1, 10],\n",
    "            'gamma': ['scale', 'auto']\n",
    "        },\n",
    "        'LogisticRegression': {\n",
    "            'C': [0.01, 0.1, 1, 10],\n",
    "            'solver': ['liblinear', 'lbfgs']\n",
    "        },\n",
    "        'RandomForest': {\n",
    "            'n_estimators': [50, 100, 200],\n",
    "            'max_depth': [None, 5, 10],\n",
    "            'min_samples_split': [2, 5]\n",
    "        }\n",
    "    }\n",
    "\n",
    "    results = {}\n",
    "\n",
    "    for model_name, model in models.items():\n",
    "        print(f\"\\n--- {model_name} ---\")\n",
    "\n",
    "        # Step 3: Train default model\n",
    "        train_acc, val_acc, test_acc = train_default_model(model, X_train, Y_train, X_val, Y_val, X_test, Y_test)\n",
    "\n",
    "        # Step 4: Tune hyperparameters using validation set\n",
    "        best_model = tune_hyperparameters_with_val(model, param_grids[model_name], X_train, Y_train, X_val, Y_val)\n",
    "\n",
    "        # Step 5: Evaluate tuned model\n",
    "        train_acc_tuned, val_acc_tuned, test_acc_tuned = evaluate_tuned_model(best_model, X_train, Y_train, X_val, Y_val, X_test, Y_test)\n",
    "\n",
    "        results[model_name] = {\n",
    "            'before': (train_acc, val_acc, test_acc),\n",
    "            'after': (train_acc_tuned, val_acc_tuned, test_acc_tuned),\n",
    "            'best_params': best_model.get_params(),\n",
    "            'best_estimator': best_model\n",
    "        }\n",
    "\n",
    "    return results\n"
   ]
  },
  {
   "cell_type": "markdown",
   "id": "21b7654a",
   "metadata": {},
   "source": [
    "## Step 7: Evaluating the Model"
   ]
  },
  {
   "cell_type": "code",
   "execution_count": 12,
   "id": "ca7a2338",
   "metadata": {},
   "outputs": [
    {
     "name": "stdout",
     "output_type": "stream",
     "text": [
      "Train shape: (614, 8), Validation shape: (77, 8), Test shape: (77, 8)\n",
      "\n",
      "--- SVM ---\n",
      "Before tuning - Train Acc: 0.8290, Val Acc: 0.6883, Test Acc: 0.7662\n",
      "Best hyperparameters: {'C': 0.1, 'gamma': 'scale', 'kernel': 'linear'}\n",
      "After tuning - Train Acc: 0.7818, Val Acc: 0.7662, Test Acc: 0.7792\n",
      "\n",
      "--- LogisticRegression ---\n",
      "Before tuning - Train Acc: 0.7850, Val Acc: 0.7273, Test Acc: 0.7922\n",
      "Best hyperparameters: {'C': 0.01, 'solver': 'liblinear'}\n",
      "After tuning - Train Acc: 0.7736, Val Acc: 0.7403, Test Acc: 0.7792\n",
      "\n",
      "--- RandomForest ---\n",
      "Before tuning - Train Acc: 1.0000, Val Acc: 0.7273, Test Acc: 0.7273\n",
      "Best hyperparameters: {'max_depth': 5, 'min_samples_split': 5, 'n_estimators': 200}\n",
      "After tuning - Train Acc: 0.8550, Val Acc: 0.8442, Test Acc: 0.7662\n"
     ]
    }
   ],
   "source": [
    "X_train, X_val, X_test, Y_train, Y_val, Y_test, scaler = prepare_data_with_val(diabetes_dataset)\n",
    "print(f\"Train shape: {X_train.shape}, Validation shape: {X_val.shape}, Test shape: {X_test.shape}\")\n",
    "\n",
    "results = train_and_tune_models(X_train, Y_train, X_val, Y_val, X_test, Y_test)"
   ]
  },
  {
   "cell_type": "code",
   "execution_count": 13,
   "id": "f0cb4c95",
   "metadata": {},
   "outputs": [
    {
     "name": "stdout",
     "output_type": "stream",
     "text": [
      "\n",
      "Summary of model performances:\n",
      "SVM:\n",
      "  Before tuning - Train Acc: 0.8290, Val Acc: 0.6883, Test Acc: 0.7662\n",
      "  After tuning  - Train Acc: 0.7818, Val Acc: 0.7662, Test Acc: 0.7792\n",
      "  Best params: {'C': 0.1, 'break_ties': False, 'cache_size': 200, 'class_weight': None, 'coef0': 0.0, 'decision_function_shape': 'ovr', 'degree': 3, 'gamma': 'scale', 'kernel': 'linear', 'max_iter': -1, 'probability': False, 'random_state': None, 'shrinking': True, 'tol': 0.001, 'verbose': False}\n",
      "LogisticRegression:\n",
      "  Before tuning - Train Acc: 0.7850, Val Acc: 0.7273, Test Acc: 0.7922\n",
      "  After tuning  - Train Acc: 0.7736, Val Acc: 0.7403, Test Acc: 0.7792\n",
      "  Best params: {'C': 0.01, 'class_weight': None, 'dual': False, 'fit_intercept': True, 'intercept_scaling': 1, 'l1_ratio': None, 'max_iter': 1000, 'multi_class': 'deprecated', 'n_jobs': None, 'penalty': 'l2', 'random_state': None, 'solver': 'liblinear', 'tol': 0.0001, 'verbose': 0, 'warm_start': False}\n",
      "RandomForest:\n",
      "  Before tuning - Train Acc: 1.0000, Val Acc: 0.7273, Test Acc: 0.7273\n",
      "  After tuning  - Train Acc: 0.8550, Val Acc: 0.8442, Test Acc: 0.7662\n",
      "  Best params: {'bootstrap': True, 'ccp_alpha': 0.0, 'class_weight': None, 'criterion': 'gini', 'max_depth': 5, 'max_features': 'sqrt', 'max_leaf_nodes': None, 'max_samples': None, 'min_impurity_decrease': 0.0, 'min_samples_leaf': 1, 'min_samples_split': 5, 'min_weight_fraction_leaf': 0.0, 'monotonic_cst': None, 'n_estimators': 200, 'n_jobs': None, 'oob_score': False, 'random_state': 2, 'verbose': 0, 'warm_start': False}\n"
     ]
    }
   ],
   "source": [
    "print(\"\\nSummary of model performances:\")\n",
    "for model_name, res in results.items():\n",
    "    print(f\"{model_name}:\")\n",
    "    print(f\"  Before tuning - Train Acc: {res['before'][0]:.4f}, Val Acc: {res['before'][1]:.4f}, Test Acc: {res['before'][2]:.4f}\")\n",
    "    print(f\"  After tuning  - Train Acc: {res['after'][0]:.4f}, Val Acc: {res['after'][1]:.4f}, Test Acc: {res['after'][2]:.4f}\")\n",
    "    print(f\"  Best params: {res['best_params']}\")\n"
   ]
  },
  {
   "cell_type": "code",
   "execution_count": 16,
   "id": "40205084",
   "metadata": {},
   "outputs": [],
   "source": [
    "best_model = results['SVM']['best_estimator']"
   ]
  },
  {
   "cell_type": "markdown",
   "id": "9a6a2b92",
   "metadata": {},
   "source": [
    "## Step8: Save the models"
   ]
  },
  {
   "cell_type": "code",
   "execution_count": 17,
   "id": "ec0ea492",
   "metadata": {},
   "outputs": [],
   "source": [
    "import joblib\n",
    "\n",
    "def save_models(classifier, scaler, model_filename, scaler_filename):\n",
    "    joblib.dump(classifier, filename=model_filename)\n",
    "    joblib.dump(scaler, filename=scaler_filename)\n",
    "    print(f\"Model saved to {model_filename}\")\n",
    "    print(f\"Scaler saved to {scaler_filename}\")"
   ]
  },
  {
   "cell_type": "code",
   "execution_count": 18,
   "id": "4a959b20",
   "metadata": {},
   "outputs": [
    {
     "name": "stdout",
     "output_type": "stream",
     "text": [
      "Model saved to src/models/svm_model.pkl\n",
      "Scaler saved to src/models/scaler.pkl\n"
     ]
    }
   ],
   "source": [
    "model_filename = 'src/models/svm_model.pkl'\n",
    "scaler_filename = 'src/models/scaler.pkl'\n",
    "save_models(best_model, scaler, model_filename, scaler_filename)\n"
   ]
  },
  {
   "cell_type": "code",
   "execution_count": 19,
   "id": "1623fa69",
   "metadata": {},
   "outputs": [],
   "source": [
    "def make_prediction(classifier, scaler, input_data):\n",
    "    # Convert input data to numpy array and reshape\n",
    "    input_data_as_numpy_array = np.asarray(input_data)\n",
    "    input_data_reshaped = input_data_as_numpy_array.reshape(1, -1)\n",
    "\n",
    "    # Standardize the input data using the scaler\n",
    "    std_data = scaler.transform(input_data_reshaped)\n",
    "    print(f'Standardized input data: {std_data}')\n",
    "\n",
    "    # Make prediction\n",
    "    prediction = classifier.predict(std_data)\n",
    "    print(f'Prediction: {prediction}')\n",
    "\n",
    "    if prediction[0] == 0:\n",
    "        print('The person is not diabetic')\n",
    "    else:\n",
    "        print('The person is diabetic')"
   ]
  },
  {
   "cell_type": "code",
   "execution_count": 20,
   "id": "02607aa2",
   "metadata": {},
   "outputs": [],
   "source": [
    "# Load saved model and scaler\n",
    "model_filename = 'src/models/svm_model.pkl'\n",
    "scaler_filename = 'src/models/scaler.pkl'\n",
    "\n",
    "loaded_model = joblib.load(model_filename)\n",
    "loaded_scaler = joblib.load(scaler_filename)\n"
   ]
  },
  {
   "cell_type": "markdown",
   "id": "da975e7c",
   "metadata": {},
   "source": [
    "## Step 9: Make Predictions on New Input Data"
   ]
  },
  {
   "cell_type": "code",
   "execution_count": 21,
   "id": "c8f4ddff",
   "metadata": {},
   "outputs": [
    {
     "name": "stdout",
     "output_type": "stream",
     "text": [
      "Standardized input data: [[-0.84488505 -1.12339636 -0.16054575  0.53090156 -0.69289057 -0.68442195\n",
      "  -0.36506078 -0.19067191]]\n",
      "Prediction: [0]\n",
      "The person is not diabetic\n"
     ]
    },
    {
     "name": "stderr",
     "output_type": "stream",
     "text": [
      "d:\\anaconda_env\\envs\\ollama\\lib\\site-packages\\sklearn\\utils\\validation.py:2739: UserWarning: X does not have valid feature names, but StandardScaler was fitted with feature names\n",
      "  warnings.warn(\n"
     ]
    }
   ],
   "source": [
    "# Example input data (replace with your values)\n",
    "input_data1 = (1, 85, 66, 29, 0, 26.6, 0.351, 31)\n",
    "make_prediction(loaded_model, loaded_scaler, input_data1)"
   ]
  },
  {
   "cell_type": "code",
   "execution_count": 22,
   "id": "6613c257",
   "metadata": {},
   "outputs": [
    {
     "name": "stdout",
     "output_type": "stream",
     "text": [
      "Standardized input data: [[ 0.63994726  0.84832379  0.14964075  0.90726993 -0.69289057  0.20401277\n",
      "   0.46849198  1.4259954 ]]\n",
      "Prediction: [1]\n",
      "The person is diabetic\n"
     ]
    },
    {
     "name": "stderr",
     "output_type": "stream",
     "text": [
      "d:\\anaconda_env\\envs\\ollama\\lib\\site-packages\\sklearn\\utils\\validation.py:2739: UserWarning: X does not have valid feature names, but StandardScaler was fitted with feature names\n",
      "  warnings.warn(\n"
     ]
    }
   ],
   "source": [
    "input_data2 = (6, 148, 72, 35, 0, 33.6, 0.627, 50)\n",
    "make_prediction(loaded_model, loaded_scaler, input_data2)"
   ]
  }
 ],
 "metadata": {
  "kernelspec": {
   "display_name": "ollama",
   "language": "python",
   "name": "python3"
  },
  "language_info": {
   "codemirror_mode": {
    "name": "ipython",
    "version": 3
   },
   "file_extension": ".py",
   "mimetype": "text/x-python",
   "name": "python",
   "nbconvert_exporter": "python",
   "pygments_lexer": "ipython3",
   "version": "3.9.21"
  }
 },
 "nbformat": 4,
 "nbformat_minor": 5
}
